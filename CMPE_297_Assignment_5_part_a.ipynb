{
  "nbformat": 4,
  "nbformat_minor": 0,
  "metadata": {
    "colab": {
      "provenance": []
    },
    "kernelspec": {
      "name": "python3",
      "display_name": "Python 3"
    },
    "language_info": {
      "name": "python"
    }
  },
  "cells": [
    {
      "cell_type": "markdown",
      "source": [
        "##Demo of Avalance for continual learning"
      ],
      "metadata": {
        "id": "zlnpaEKkWo20"
      }
    },
    {
      "cell_type": "markdown",
      "source": [
        "Install Avalanche"
      ],
      "metadata": {
        "id": "63EZpMAKW4x7"
      }
    },
    {
      "cell_type": "code",
      "source": [
        "!pip install torch"
      ],
      "metadata": {
        "colab": {
          "base_uri": "https://localhost:8080/"
        },
        "id": "iYmDXdwnX3wX",
        "outputId": "d9fcfe8d-8641-4ddf-aab6-aaef1bd97f06"
      },
      "execution_count": 7,
      "outputs": [
        {
          "output_type": "stream",
          "name": "stdout",
          "text": [
            "Looking in indexes: https://pypi.org/simple, https://us-python.pkg.dev/colab-wheels/public/simple/\n",
            "Requirement already satisfied: torch in /usr/local/lib/python3.8/dist-packages (1.13.0+cu116)\n",
            "Requirement already satisfied: typing-extensions in /usr/local/lib/python3.8/dist-packages (from torch) (4.4.0)\n"
          ]
        }
      ]
    },
    {
      "cell_type": "code",
      "source": [
        "!pip install torchvision"
      ],
      "metadata": {
        "colab": {
          "base_uri": "https://localhost:8080/"
        },
        "id": "xKyma53wX-Ri",
        "outputId": "df4b5b0a-c3d3-4ffb-f6a0-bf8b8e46ae21"
      },
      "execution_count": 9,
      "outputs": [
        {
          "output_type": "stream",
          "name": "stdout",
          "text": [
            "Looking in indexes: https://pypi.org/simple, https://us-python.pkg.dev/colab-wheels/public/simple/\n",
            "Requirement already satisfied: torchvision in /usr/local/lib/python3.8/dist-packages (0.14.0+cu116)\n",
            "Requirement already satisfied: pillow!=8.3.*,>=5.3.0 in /usr/local/lib/python3.8/dist-packages (from torchvision) (7.1.2)\n",
            "Requirement already satisfied: requests in /usr/local/lib/python3.8/dist-packages (from torchvision) (2.23.0)\n",
            "Requirement already satisfied: numpy in /usr/local/lib/python3.8/dist-packages (from torchvision) (1.21.6)\n",
            "Requirement already satisfied: typing-extensions in /usr/local/lib/python3.8/dist-packages (from torchvision) (4.4.0)\n",
            "Requirement already satisfied: torch==1.13.0 in /usr/local/lib/python3.8/dist-packages (from torchvision) (1.13.0+cu116)\n",
            "Requirement already satisfied: urllib3!=1.25.0,!=1.25.1,<1.26,>=1.21.1 in /usr/local/lib/python3.8/dist-packages (from requests->torchvision) (1.24.3)\n",
            "Requirement already satisfied: idna<3,>=2.5 in /usr/local/lib/python3.8/dist-packages (from requests->torchvision) (2.10)\n",
            "Requirement already satisfied: certifi>=2017.4.17 in /usr/local/lib/python3.8/dist-packages (from requests->torchvision) (2022.9.24)\n",
            "Requirement already satisfied: chardet<4,>=3.0.2 in /usr/local/lib/python3.8/dist-packages (from requests->torchvision) (3.0.4)\n"
          ]
        }
      ]
    },
    {
      "cell_type": "code",
      "execution_count": 7,
      "metadata": {
        "pycharm": {
          "name": "#%%\n"
        },
        "id": "qjpmhosoLIH7",
        "colab": {
          "base_uri": "https://localhost:8080/",
          "height": 1000
        },
        "outputId": "efade785-1b6b-4296-a171-6c22b6fd6fab"
      },
      "outputs": [
        {
          "output_type": "stream",
          "name": "stdout",
          "text": [
            "Looking in indexes: https://pypi.org/simple, https://us-python.pkg.dev/colab-wheels/public/simple/\n",
            "Collecting avalanche-lib==0.2.1\n",
            "  Downloading avalanche_lib-0.2.1-py3-none-any.whl (582 kB)\n",
            "\u001b[K     |████████████████████████████████| 582 kB 4.6 MB/s \n",
            "\u001b[?25hRequirement already satisfied: pytorchcv in /usr/local/lib/python3.8/dist-packages (from avalanche-lib==0.2.1) (0.0.67)\n",
            "Requirement already satisfied: gputil in /usr/local/lib/python3.8/dist-packages (from avalanche-lib==0.2.1) (1.4.0)\n",
            "Requirement already satisfied: torch in /usr/local/lib/python3.8/dist-packages (from avalanche-lib==0.2.1) (1.13.0+cu116)\n",
            "Requirement already satisfied: wandb in /usr/local/lib/python3.8/dist-packages (from avalanche-lib==0.2.1) (0.13.6)\n",
            "Requirement already satisfied: psutil in /usr/local/lib/python3.8/dist-packages (from avalanche-lib==0.2.1) (5.4.8)\n",
            "Requirement already satisfied: tensorboard>=1.15 in /usr/local/lib/python3.8/dist-packages (from avalanche-lib==0.2.1) (2.9.1)\n",
            "Requirement already satisfied: torchvision in /usr/local/lib/python3.8/dist-packages (from avalanche-lib==0.2.1) (0.14.0+cu116)\n",
            "Requirement already satisfied: matplotlib in /usr/local/lib/python3.8/dist-packages (from avalanche-lib==0.2.1) (3.2.2)\n",
            "Requirement already satisfied: setuptools<=59.5.0 in /usr/local/lib/python3.8/dist-packages (from avalanche-lib==0.2.1) (57.4.0)\n",
            "Requirement already satisfied: numpy in /usr/local/lib/python3.8/dist-packages (from avalanche-lib==0.2.1) (1.21.6)\n",
            "Requirement already satisfied: tqdm in /usr/local/lib/python3.8/dist-packages (from avalanche-lib==0.2.1) (4.64.1)\n",
            "Requirement already satisfied: scikit-learn in /usr/local/lib/python3.8/dist-packages (from avalanche-lib==0.2.1) (1.0.2)\n",
            "Requirement already satisfied: typing-extensions in /usr/local/lib/python3.8/dist-packages (from avalanche-lib==0.2.1) (4.4.0)\n",
            "Requirement already satisfied: quadprog in /usr/local/lib/python3.8/dist-packages (from avalanche-lib==0.2.1) (0.1.11)\n",
            "Requirement already satisfied: gdown in /usr/local/lib/python3.8/dist-packages (from avalanche-lib==0.2.1) (4.4.0)\n",
            "Requirement already satisfied: torchmetrics in /usr/local/lib/python3.8/dist-packages (from avalanche-lib==0.2.1) (0.11.0)\n",
            "Requirement already satisfied: requests<3,>=2.21.0 in /usr/local/lib/python3.8/dist-packages (from tensorboard>=1.15->avalanche-lib==0.2.1) (2.23.0)\n",
            "Requirement already satisfied: wheel>=0.26 in /usr/local/lib/python3.8/dist-packages (from tensorboard>=1.15->avalanche-lib==0.2.1) (0.38.4)\n",
            "Requirement already satisfied: absl-py>=0.4 in /usr/local/lib/python3.8/dist-packages (from tensorboard>=1.15->avalanche-lib==0.2.1) (1.3.0)\n",
            "Requirement already satisfied: markdown>=2.6.8 in /usr/local/lib/python3.8/dist-packages (from tensorboard>=1.15->avalanche-lib==0.2.1) (3.4.1)\n",
            "Requirement already satisfied: tensorboard-plugin-wit>=1.6.0 in /usr/local/lib/python3.8/dist-packages (from tensorboard>=1.15->avalanche-lib==0.2.1) (1.8.1)\n",
            "Requirement already satisfied: tensorboard-data-server<0.7.0,>=0.6.0 in /usr/local/lib/python3.8/dist-packages (from tensorboard>=1.15->avalanche-lib==0.2.1) (0.6.1)\n",
            "Requirement already satisfied: grpcio>=1.24.3 in /usr/local/lib/python3.8/dist-packages (from tensorboard>=1.15->avalanche-lib==0.2.1) (1.51.1)\n",
            "Requirement already satisfied: protobuf<3.20,>=3.9.2 in /usr/local/lib/python3.8/dist-packages (from tensorboard>=1.15->avalanche-lib==0.2.1) (3.19.6)\n",
            "Requirement already satisfied: google-auth-oauthlib<0.5,>=0.4.1 in /usr/local/lib/python3.8/dist-packages (from tensorboard>=1.15->avalanche-lib==0.2.1) (0.4.6)\n",
            "Requirement already satisfied: werkzeug>=1.0.1 in /usr/local/lib/python3.8/dist-packages (from tensorboard>=1.15->avalanche-lib==0.2.1) (1.0.1)\n",
            "Requirement already satisfied: google-auth<3,>=1.6.3 in /usr/local/lib/python3.8/dist-packages (from tensorboard>=1.15->avalanche-lib==0.2.1) (2.15.0)\n",
            "Requirement already satisfied: six>=1.9.0 in /usr/local/lib/python3.8/dist-packages (from google-auth<3,>=1.6.3->tensorboard>=1.15->avalanche-lib==0.2.1) (1.15.0)\n",
            "Requirement already satisfied: pyasn1-modules>=0.2.1 in /usr/local/lib/python3.8/dist-packages (from google-auth<3,>=1.6.3->tensorboard>=1.15->avalanche-lib==0.2.1) (0.2.8)\n",
            "Requirement already satisfied: rsa<5,>=3.1.4 in /usr/local/lib/python3.8/dist-packages (from google-auth<3,>=1.6.3->tensorboard>=1.15->avalanche-lib==0.2.1) (4.9)\n",
            "Requirement already satisfied: cachetools<6.0,>=2.0.0 in /usr/local/lib/python3.8/dist-packages (from google-auth<3,>=1.6.3->tensorboard>=1.15->avalanche-lib==0.2.1) (5.2.0)\n",
            "Requirement already satisfied: requests-oauthlib>=0.7.0 in /usr/local/lib/python3.8/dist-packages (from google-auth-oauthlib<0.5,>=0.4.1->tensorboard>=1.15->avalanche-lib==0.2.1) (1.3.1)\n",
            "Requirement already satisfied: importlib-metadata>=4.4 in /usr/local/lib/python3.8/dist-packages (from markdown>=2.6.8->tensorboard>=1.15->avalanche-lib==0.2.1) (4.13.0)\n",
            "Requirement already satisfied: zipp>=0.5 in /usr/local/lib/python3.8/dist-packages (from importlib-metadata>=4.4->markdown>=2.6.8->tensorboard>=1.15->avalanche-lib==0.2.1) (3.11.0)\n",
            "Requirement already satisfied: pyasn1<0.5.0,>=0.4.6 in /usr/local/lib/python3.8/dist-packages (from pyasn1-modules>=0.2.1->google-auth<3,>=1.6.3->tensorboard>=1.15->avalanche-lib==0.2.1) (0.4.8)\n",
            "Requirement already satisfied: urllib3!=1.25.0,!=1.25.1,<1.26,>=1.21.1 in /usr/local/lib/python3.8/dist-packages (from requests<3,>=2.21.0->tensorboard>=1.15->avalanche-lib==0.2.1) (1.24.3)\n",
            "Requirement already satisfied: certifi>=2017.4.17 in /usr/local/lib/python3.8/dist-packages (from requests<3,>=2.21.0->tensorboard>=1.15->avalanche-lib==0.2.1) (2022.9.24)\n",
            "Requirement already satisfied: idna<3,>=2.5 in /usr/local/lib/python3.8/dist-packages (from requests<3,>=2.21.0->tensorboard>=1.15->avalanche-lib==0.2.1) (2.10)\n",
            "Requirement already satisfied: chardet<4,>=3.0.2 in /usr/local/lib/python3.8/dist-packages (from requests<3,>=2.21.0->tensorboard>=1.15->avalanche-lib==0.2.1) (3.0.4)\n",
            "Requirement already satisfied: oauthlib>=3.0.0 in /usr/local/lib/python3.8/dist-packages (from requests-oauthlib>=0.7.0->google-auth-oauthlib<0.5,>=0.4.1->tensorboard>=1.15->avalanche-lib==0.2.1) (3.2.2)\n",
            "Requirement already satisfied: beautifulsoup4 in /usr/local/lib/python3.8/dist-packages (from gdown->avalanche-lib==0.2.1) (4.6.3)\n",
            "Requirement already satisfied: filelock in /usr/local/lib/python3.8/dist-packages (from gdown->avalanche-lib==0.2.1) (3.8.0)\n",
            "Requirement already satisfied: pyparsing!=2.0.4,!=2.1.2,!=2.1.6,>=2.0.1 in /usr/local/lib/python3.8/dist-packages (from matplotlib->avalanche-lib==0.2.1) (3.0.9)\n",
            "Requirement already satisfied: kiwisolver>=1.0.1 in /usr/local/lib/python3.8/dist-packages (from matplotlib->avalanche-lib==0.2.1) (1.4.4)\n",
            "Requirement already satisfied: cycler>=0.10 in /usr/local/lib/python3.8/dist-packages (from matplotlib->avalanche-lib==0.2.1) (0.11.0)\n",
            "Requirement already satisfied: python-dateutil>=2.1 in /usr/local/lib/python3.8/dist-packages (from matplotlib->avalanche-lib==0.2.1) (2.8.2)\n",
            "Requirement already satisfied: PySocks!=1.5.7,>=1.5.6 in /usr/local/lib/python3.8/dist-packages (from requests<3,>=2.21.0->tensorboard>=1.15->avalanche-lib==0.2.1) (1.7.1)\n",
            "Requirement already satisfied: threadpoolctl>=2.0.0 in /usr/local/lib/python3.8/dist-packages (from scikit-learn->avalanche-lib==0.2.1) (3.1.0)\n",
            "Requirement already satisfied: scipy>=1.1.0 in /usr/local/lib/python3.8/dist-packages (from scikit-learn->avalanche-lib==0.2.1) (1.7.3)\n",
            "Requirement already satisfied: joblib>=0.11 in /usr/local/lib/python3.8/dist-packages (from scikit-learn->avalanche-lib==0.2.1) (1.2.0)\n",
            "Requirement already satisfied: packaging in /usr/local/lib/python3.8/dist-packages (from torchmetrics->avalanche-lib==0.2.1) (21.3)\n",
            "Requirement already satisfied: pillow!=8.3.*,>=5.3.0 in /usr/local/lib/python3.8/dist-packages (from torchvision->avalanche-lib==0.2.1) (7.1.2)\n",
            "Requirement already satisfied: PyYAML in /usr/local/lib/python3.8/dist-packages (from wandb->avalanche-lib==0.2.1) (6.0)\n",
            "Requirement already satisfied: pathtools in /usr/local/lib/python3.8/dist-packages (from wandb->avalanche-lib==0.2.1) (0.1.2)\n",
            "Requirement already satisfied: promise<3,>=2.0 in /usr/local/lib/python3.8/dist-packages (from wandb->avalanche-lib==0.2.1) (2.3)\n",
            "Requirement already satisfied: shortuuid>=0.5.0 in /usr/local/lib/python3.8/dist-packages (from wandb->avalanche-lib==0.2.1) (1.0.11)\n",
            "Requirement already satisfied: setproctitle in /usr/local/lib/python3.8/dist-packages (from wandb->avalanche-lib==0.2.1) (1.3.2)\n",
            "Requirement already satisfied: Click!=8.0.0,>=7.0 in /usr/local/lib/python3.8/dist-packages (from wandb->avalanche-lib==0.2.1) (7.1.2)\n",
            "Requirement already satisfied: docker-pycreds>=0.4.0 in /usr/local/lib/python3.8/dist-packages (from wandb->avalanche-lib==0.2.1) (0.4.0)\n",
            "Requirement already satisfied: sentry-sdk>=1.0.0 in /usr/local/lib/python3.8/dist-packages (from wandb->avalanche-lib==0.2.1) (1.9.0)\n",
            "Requirement already satisfied: GitPython>=1.0.0 in /usr/local/lib/python3.8/dist-packages (from wandb->avalanche-lib==0.2.1) (3.1.29)\n",
            "Requirement already satisfied: gitdb<5,>=4.0.1 in /usr/local/lib/python3.8/dist-packages (from GitPython>=1.0.0->wandb->avalanche-lib==0.2.1) (4.0.10)\n",
            "Requirement already satisfied: smmap<6,>=3.0.1 in /usr/local/lib/python3.8/dist-packages (from gitdb<5,>=4.0.1->GitPython>=1.0.0->wandb->avalanche-lib==0.2.1) (5.0.0)\n",
            "Installing collected packages: avalanche-lib\n",
            "  Attempting uninstall: avalanche-lib\n",
            "    Found existing installation: avalanche-lib 0.2.0\n",
            "    Uninstalling avalanche-lib-0.2.0:\n",
            "      Successfully uninstalled avalanche-lib-0.2.0\n",
            "Successfully installed avalanche-lib-0.2.1\n"
          ]
        },
        {
          "output_type": "display_data",
          "data": {
            "application/vnd.colab-display-data+json": {
              "pip_warning": {
                "packages": [
                  "avalanche"
                ]
              }
            }
          },
          "metadata": {}
        }
      ],
      "source": [
        "!pip install avalanche-lib==0.2.1"
      ]
    },
    {
      "cell_type": "markdown",
      "metadata": {
        "pycharm": {
          "name": "#%% md\n"
        },
        "id": "9xscmYufLIH8"
      },
      "source": [
        "## Import libraries\n"
      ]
    },
    {
      "cell_type": "code",
      "source": [
        "from torchvision import datasets"
      ],
      "metadata": {
        "id": "HIlbA-z7YFl2"
      },
      "execution_count": 12,
      "outputs": []
    },
    {
      "cell_type": "code",
      "source": [
        "!pip install torch"
      ],
      "metadata": {
        "colab": {
          "base_uri": "https://localhost:8080/"
        },
        "id": "2hrLIz5xaURu",
        "outputId": "81b34905-4c73-4b9c-be04-5679e637c023"
      },
      "execution_count": 5,
      "outputs": [
        {
          "output_type": "stream",
          "name": "stdout",
          "text": [
            "Looking in indexes: https://pypi.org/simple, https://us-python.pkg.dev/colab-wheels/public/simple/\n",
            "Requirement already satisfied: torch in /usr/local/lib/python3.8/dist-packages (1.13.0+cu116)\n",
            "Requirement already satisfied: typing-extensions in /usr/local/lib/python3.8/dist-packages (from torch) (4.4.0)\n"
          ]
        }
      ]
    },
    {
      "cell_type": "code",
      "execution_count": null,
      "metadata": {
        "pycharm": {
          "name": "#%%\n",
          "is_executing": true
        },
        "id": "79LDnZctLIH8"
      },
      "outputs": [],
      "source": [
        "from torch.optim import SGD\n",
        "from torch.nn import CrossEntropyLoss\n",
        "# from avalanche.benchmarks.classic import SplitMNIST\n",
        "from avalanche.evaluation.metrics import forgetting_metrics, accuracy_metrics, \\\n",
        "    loss_metrics, timing_metrics, cpu_usage_metrics, confusion_matrix_metrics, disk_usage_metrics\n",
        "from avalanche.models import SimpleMLP\n",
        "from avalanche.logging import InteractiveLogger, TextLogger, TensorboardLogger\n",
        "from avalanche.training.plugins import EvaluationPlugin\n",
        "from avalanche.training.supervised import Naive\n",
        "\n",
        "scenario = SplitMNIST(n_experiences=5)"
      ]
    },
    {
      "cell_type": "code",
      "source": [
        "# MODEL CREATION\n",
        "model = SimpleMLP(num_classes=scenario.n_classes)"
      ],
      "metadata": {
        "id": "cCBdAzh6L_3s"
      },
      "execution_count": null,
      "outputs": []
    },
    {
      "cell_type": "markdown",
      "source": [
        "TensorBoard logging"
      ],
      "metadata": {
        "id": "oqG0vBIBXEfX"
      }
    },
    {
      "cell_type": "code",
      "source": [
        "\n",
        "tb_logger = TensorboardLogger()\n",
        "\n",
        "# log to text file\n",
        "text_logger = TextLogger(open('log.txt', 'a'))\n",
        "\n",
        "# print to stdout\n",
        "interactive_logger = InteractiveLogger()\n"
      ],
      "metadata": {
        "id": "1GO4IBFuMEmp"
      },
      "execution_count": null,
      "outputs": []
    },
    {
      "cell_type": "code",
      "source": [
        "eval_plugin = EvaluationPlugin(\n",
        "    accuracy_metrics(minibatch=True, epoch=True, experience=True, stream=True),\n",
        "    loss_metrics(minibatch=True, epoch=True, experience=True, stream=True),\n",
        "    timing_metrics(epoch=True, epoch_running=True),\n",
        "    forgetting_metrics(experience=True, stream=True),\n",
        "    cpu_usage_metrics(experience=True),\n",
        "    confusion_matrix_metrics(num_classes=scenario.n_classes, save_image=False,\n",
        "                             stream=True),\n",
        "    disk_usage_metrics(minibatch=True, epoch=True, experience=True, stream=True),\n",
        "    loggers=[interactive_logger, text_logger, tb_logger]\n",
        ")"
      ],
      "metadata": {
        "colab": {
          "base_uri": "https://localhost:8080/"
        },
        "id": "UduqkgTIMIH5",
        "outputId": "d4d70a1f-8cc2-43bb-991b-11cdd2a990c5"
      },
      "execution_count": null,
      "outputs": [
        {
          "output_type": "stream",
          "name": "stderr",
          "text": [
            "/usr/local/lib/python3.7/dist-packages/avalanche/training/plugins/evaluation.py:82: UserWarning: No benchmark provided to the evaluation plugin. Metrics may be computed on inconsistent portion of streams, use at your own risk.\n",
            "  \"No benchmark provided to the evaluation plugin. \"\n"
          ]
        }
      ]
    },
    {
      "cell_type": "code",
      "source": [
        "# CREATE THE STRATEGY INSTANCE (NAIVE)\n",
        "cl_strategy = Naive(\n",
        "    model, SGD(model.parameters(), lr=0.001, momentum=0.9),\n",
        "    CrossEntropyLoss(), train_mb_size=500, train_epochs=1, eval_mb_size=100,\n",
        "    evaluator=eval_plugin)"
      ],
      "metadata": {
        "id": "n9iRS8bxMK6_"
      },
      "execution_count": null,
      "outputs": []
    },
    {
      "cell_type": "code",
      "source": [
        "# TRAINING LOOP\n",
        "print('Starting experiment...')\n",
        "results = []\n",
        "for experience in scenario.train_stream:\n",
        "    print(\"Start of experience: \", experience.current_experience)\n",
        "    print(\"Current Classes: \", experience.classes_in_this_experience)\n",
        "\n",
        "    # train returns a dictionary which contains all the metric values\n",
        "    res = cl_strategy.train(experience)\n",
        "    print('Training completed')\n",
        "\n",
        "    print('Computing accuracy on the whole test set')\n",
        "    # test also returns a dictionary which contains all the metric values\n",
        "    results.append(cl_strategy.eval(scenario.test_stream))\n"
      ],
      "metadata": {
        "colab": {
          "base_uri": "https://localhost:8080/"
        },
        "id": "7aFziyK0MPBe",
        "outputId": "57773175-0b2b-4e5d-acf5-09de386bf3c0"
      },
      "execution_count": null,
      "outputs": [
        {
          "output_type": "stream",
          "name": "stdout",
          "text": [
            "Starting experiment...\n",
            "Start of experience:  0\n",
            "Current Classes:  [0, 5]\n",
            "-- >> Start of training phase << --\n",
            "100%|██████████| 23/23 [00:06<00:00,  3.69it/s]\n",
            "Epoch 0 ended.\n",
            "\tDiskUsage_Epoch/train_phase/train_stream/Task000 = 55644.3730\n",
            "\tDiskUsage_MB/train_phase/train_stream/Task000 = 55644.3730\n",
            "\tLoss_Epoch/train_phase/train_stream/Task000 = 1.2534\n",
            "\tLoss_MB/train_phase/train_stream/Task000 = 0.4151\n",
            "\tRunningTime_Epoch/train_phase/train_stream/Task000 = 0.0112\n",
            "\tTime_Epoch/train_phase/train_stream/Task000 = 6.2123\n",
            "\tTop1_Acc_Epoch/train_phase/train_stream/Task000 = 0.6499\n",
            "\tTop1_Acc_MB/train_phase/train_stream/Task000 = 0.9128\n",
            "-- >> End of training phase << --\n",
            "Training completed\n",
            "Computing accuracy on the whole test set\n",
            "-- >> Start of eval phase << --\n",
            "-- Starting eval on experience 0 (Task 0) from test stream --\n",
            "100%|██████████| 19/19 [00:00<00:00, 27.21it/s]\n",
            "> Eval on experience 0 (Task 0) from test stream ended.\n",
            "\tCPUUsage_Exp/eval_phase/test_stream/Task000/Exp000 = 85.8873\n",
            "\tDiskUsage_Exp/eval_phase/test_stream/Task000/Exp000 = 55644.9580\n",
            "\tLoss_Exp/eval_phase/test_stream/Task000/Exp000 = 0.3486\n",
            "\tTop1_Acc_Exp/eval_phase/test_stream/Task000/Exp000 = 0.9546\n",
            "-- Starting eval on experience 1 (Task 0) from test stream --\n",
            "100%|██████████| 22/22 [00:00<00:00, 33.33it/s]\n",
            "> Eval on experience 1 (Task 0) from test stream ended.\n",
            "\tCPUUsage_Exp/eval_phase/test_stream/Task000/Exp001 = 97.0624\n",
            "\tDiskUsage_Exp/eval_phase/test_stream/Task000/Exp001 = 55649.3135\n",
            "\tLoss_Exp/eval_phase/test_stream/Task000/Exp001 = 4.0144\n",
            "\tTop1_Acc_Exp/eval_phase/test_stream/Task000/Exp001 = 0.0000\n",
            "-- Starting eval on experience 2 (Task 0) from test stream --\n",
            "100%|██████████| 21/21 [00:00<00:00, 33.53it/s]\n",
            "> Eval on experience 2 (Task 0) from test stream ended.\n",
            "\tCPUUsage_Exp/eval_phase/test_stream/Task000/Exp002 = 96.0044\n",
            "\tDiskUsage_Exp/eval_phase/test_stream/Task000/Exp002 = 55649.6689\n",
            "\tLoss_Exp/eval_phase/test_stream/Task000/Exp002 = 4.1958\n",
            "\tTop1_Acc_Exp/eval_phase/test_stream/Task000/Exp002 = 0.0000\n",
            "-- Starting eval on experience 3 (Task 0) from test stream --\n",
            "100%|██████████| 21/21 [00:00<00:00, 34.72it/s]\n",
            "> Eval on experience 3 (Task 0) from test stream ended.\n",
            "\tCPUUsage_Exp/eval_phase/test_stream/Task000/Exp003 = 96.1854\n",
            "\tDiskUsage_Exp/eval_phase/test_stream/Task000/Exp003 = 55650.0244\n",
            "\tLoss_Exp/eval_phase/test_stream/Task000/Exp003 = 4.9008\n",
            "\tTop1_Acc_Exp/eval_phase/test_stream/Task000/Exp003 = 0.0000\n",
            "-- Starting eval on experience 4 (Task 0) from test stream --\n",
            "100%|██████████| 20/20 [00:00<00:00, 32.11it/s]\n",
            "> Eval on experience 4 (Task 0) from test stream ended.\n",
            "\tCPUUsage_Exp/eval_phase/test_stream/Task000/Exp004 = 97.1575\n",
            "\tDiskUsage_Exp/eval_phase/test_stream/Task000/Exp004 = 55650.3799\n",
            "\tLoss_Exp/eval_phase/test_stream/Task000/Exp004 = 4.9506\n",
            "\tTop1_Acc_Exp/eval_phase/test_stream/Task000/Exp004 = 0.0000\n",
            "-- >> End of eval phase << --\n",
            "\tConfusionMatrix_Stream/eval_phase/test_stream = \n",
            "tensor([[ 954,    0,    0,    0,    0,   26,    0,    0,    0,    0],\n",
            "        [   0,    0,    0,    0,    0, 1135,    0,    0,    0,    0],\n",
            "        [ 365,    0,    0,    0,    0,  667,    0,    0,    0,    0],\n",
            "        [  88,    0,    0,    0,    0,  922,    0,    0,    0,    0],\n",
            "        [ 156,    0,    0,    0,    0,  826,    0,    0,    0,    0],\n",
            "        [  59,    0,    0,    0,    0,  833,    0,    0,    0,    0],\n",
            "        [ 392,    0,    0,    0,    0,  566,    0,    0,    0,    0],\n",
            "        [ 165,    0,    0,    0,    0,  863,    0,    0,    0,    0],\n",
            "        [  85,    0,    0,    0,    0,  889,    0,    0,    0,    0],\n",
            "        [ 127,    0,    0,    0,    0,  882,    0,    0,    0,    0]])\n",
            "\tDiskUsage_Stream/eval_phase/test_stream/Task000 = 55650.3799\n",
            "\tLoss_Stream/eval_phase/test_stream/Task000 = 3.7245\n",
            "\tStreamForgetting/eval_phase/test_stream = 0.0000\n",
            "\tTop1_Acc_Stream/eval_phase/test_stream/Task000 = 0.1787\n",
            "Start of experience:  1\n",
            "Current Classes:  [1, 2]\n",
            "-- >> Start of training phase << --\n",
            "100%|██████████| 26/26 [00:03<00:00,  7.36it/s]\n",
            "Epoch 0 ended.\n",
            "\tDiskUsage_Epoch/train_phase/train_stream/Task000 = 55663.7549\n",
            "\tDiskUsage_MB/train_phase/train_stream/Task000 = 55663.7549\n",
            "\tLoss_Epoch/train_phase/train_stream/Task000 = 1.6280\n",
            "\tLoss_MB/train_phase/train_stream/Task000 = 0.3413\n",
            "\tRunningTime_Epoch/train_phase/train_stream/Task000 = 0.0052\n",
            "\tTime_Epoch/train_phase/train_stream/Task000 = 3.5300\n",
            "\tTop1_Acc_Epoch/train_phase/train_stream/Task000 = 0.5421\n",
            "\tTop1_Acc_MB/train_phase/train_stream/Task000 = 0.9300\n",
            "-- >> End of training phase << --\n",
            "Training completed\n",
            "Computing accuracy on the whole test set\n",
            "-- >> Start of eval phase << --\n",
            "-- Starting eval on experience 0 (Task 0) from test stream --\n",
            "100%|██████████| 19/19 [00:00<00:00, 31.74it/s]\n",
            "> Eval on experience 0 (Task 0) from test stream ended.\n",
            "\tCPUUsage_Exp/eval_phase/test_stream/Task000/Exp000 = 94.4312\n",
            "\tDiskUsage_Exp/eval_phase/test_stream/Task000/Exp000 = 55668.3398\n",
            "\tExperienceForgetting/eval_phase/test_stream/Task000/Exp000 = 0.9546\n",
            "\tLoss_Exp/eval_phase/test_stream/Task000/Exp000 = 2.5405\n",
            "\tTop1_Acc_Exp/eval_phase/test_stream/Task000/Exp000 = 0.0000\n",
            "-- Starting eval on experience 1 (Task 0) from test stream --\n",
            "100%|██████████| 22/22 [00:00<00:00, 32.83it/s]\n",
            "> Eval on experience 1 (Task 0) from test stream ended.\n",
            "\tCPUUsage_Exp/eval_phase/test_stream/Task000/Exp001 = 96.7397\n",
            "\tDiskUsage_Exp/eval_phase/test_stream/Task000/Exp001 = 55668.7627\n",
            "\tLoss_Exp/eval_phase/test_stream/Task000/Exp001 = 0.2766\n",
            "\tTop1_Acc_Exp/eval_phase/test_stream/Task000/Exp001 = 0.9419\n",
            "-- Starting eval on experience 2 (Task 0) from test stream --\n",
            "100%|██████████| 21/21 [00:00<00:00, 34.67it/s]\n",
            "> Eval on experience 2 (Task 0) from test stream ended.\n",
            "\tCPUUsage_Exp/eval_phase/test_stream/Task000/Exp002 = 97.1356\n",
            "\tDiskUsage_Exp/eval_phase/test_stream/Task000/Exp002 = 55669.1182\n",
            "\tLoss_Exp/eval_phase/test_stream/Task000/Exp002 = 4.5413\n",
            "\tTop1_Acc_Exp/eval_phase/test_stream/Task000/Exp002 = 0.0000\n",
            "-- Starting eval on experience 3 (Task 0) from test stream --\n",
            "100%|██████████| 21/21 [00:00<00:00, 33.46it/s]\n",
            "> Eval on experience 3 (Task 0) from test stream ended.\n",
            "\tCPUUsage_Exp/eval_phase/test_stream/Task000/Exp003 = 96.9927\n",
            "\tDiskUsage_Exp/eval_phase/test_stream/Task000/Exp003 = 55669.4736\n",
            "\tLoss_Exp/eval_phase/test_stream/Task000/Exp003 = 4.8456\n",
            "\tTop1_Acc_Exp/eval_phase/test_stream/Task000/Exp003 = 0.0000\n",
            "-- Starting eval on experience 4 (Task 0) from test stream --\n",
            "100%|██████████| 20/20 [00:00<00:00, 32.88it/s]\n",
            "> Eval on experience 4 (Task 0) from test stream ended.\n",
            "\tCPUUsage_Exp/eval_phase/test_stream/Task000/Exp004 = 95.0198\n",
            "\tDiskUsage_Exp/eval_phase/test_stream/Task000/Exp004 = 55669.8291\n",
            "\tLoss_Exp/eval_phase/test_stream/Task000/Exp004 = 5.1163\n",
            "\tTop1_Acc_Exp/eval_phase/test_stream/Task000/Exp004 = 0.0000\n",
            "-- >> End of eval phase << --\n",
            "\tConfusionMatrix_Stream/eval_phase/test_stream = \n",
            "tensor([[   0,    1,  979,    0,    0,    0,    0,    0,    0,    0],\n",
            "        [   0, 1112,   23,    0,    0,    0,    0,    0,    0,    0],\n",
            "        [   0,  103,  929,    0,    0,    0,    0,    0,    0,    0],\n",
            "        [   0,  214,  796,    0,    0,    0,    0,    0,    0,    0],\n",
            "        [   0,  170,  812,    0,    0,    0,    0,    0,    0,    0],\n",
            "        [   0,  206,  686,    0,    0,    0,    0,    0,    0,    0],\n",
            "        [   0,   56,  902,    0,    0,    0,    0,    0,    0,    0],\n",
            "        [   0,  256,  772,    0,    0,    0,    0,    0,    0,    0],\n",
            "        [   0,  273,  701,    0,    0,    0,    0,    0,    0,    0],\n",
            "        [   0,  277,  732,    0,    0,    0,    0,    0,    0,    0]])\n",
            "\tDiskUsage_Stream/eval_phase/test_stream/Task000 = 55669.8291\n",
            "\tLoss_Stream/eval_phase/test_stream/Task000 = 3.4151\n",
            "\tStreamForgetting/eval_phase/test_stream = 0.9546\n",
            "\tTop1_Acc_Stream/eval_phase/test_stream/Task000 = 0.2041\n",
            "Start of experience:  2\n",
            "Current Classes:  [4, 7]\n",
            "-- >> Start of training phase << --\n",
            "100%|██████████| 25/25 [00:04<00:00,  6.22it/s]\n",
            "Epoch 0 ended.\n",
            "\tDiskUsage_Epoch/train_phase/train_stream/Task000 = 55687.2041\n",
            "\tDiskUsage_MB/train_phase/train_stream/Task000 = 55687.2041\n",
            "\tLoss_Epoch/train_phase/train_stream/Task000 = 2.1382\n",
            "\tLoss_MB/train_phase/train_stream/Task000 = 0.5851\n",
            "\tRunningTime_Epoch/train_phase/train_stream/Task000 = 0.0057\n",
            "\tTime_Epoch/train_phase/train_stream/Task000 = 4.0191\n",
            "\tTop1_Acc_Epoch/train_phase/train_stream/Task000 = 0.4244\n",
            "\tTop1_Acc_MB/train_phase/train_stream/Task000 = 0.9346\n",
            "-- >> End of training phase << --\n",
            "Training completed\n",
            "Computing accuracy on the whole test set\n",
            "-- >> Start of eval phase << --\n",
            "-- Starting eval on experience 0 (Task 0) from test stream --\n",
            "100%|██████████| 19/19 [00:00<00:00, 33.40it/s]\n",
            "> Eval on experience 0 (Task 0) from test stream ended.\n",
            "\tCPUUsage_Exp/eval_phase/test_stream/Task000/Exp000 = 102.5440\n",
            "\tDiskUsage_Exp/eval_phase/test_stream/Task000/Exp000 = 55687.7891\n",
            "\tExperienceForgetting/eval_phase/test_stream/Task000/Exp000 = 0.8526\n",
            "\tLoss_Exp/eval_phase/test_stream/Task000/Exp000 = 2.3057\n",
            "\tTop1_Acc_Exp/eval_phase/test_stream/Task000/Exp000 = 0.1020\n",
            "-- Starting eval on experience 1 (Task 0) from test stream --\n",
            "100%|██████████| 22/22 [00:00<00:00, 31.53it/s]\n",
            "> Eval on experience 1 (Task 0) from test stream ended.\n",
            "\tCPUUsage_Exp/eval_phase/test_stream/Task000/Exp001 = 95.8971\n",
            "\tDiskUsage_Exp/eval_phase/test_stream/Task000/Exp001 = 55688.2129\n",
            "\tExperienceForgetting/eval_phase/test_stream/Task000/Exp001 = 0.5745\n",
            "\tLoss_Exp/eval_phase/test_stream/Task000/Exp001 = 1.6127\n",
            "\tTop1_Acc_Exp/eval_phase/test_stream/Task000/Exp001 = 0.3673\n",
            "-- Starting eval on experience 2 (Task 0) from test stream --\n",
            "100%|██████████| 21/21 [00:00<00:00, 32.87it/s]\n",
            "> Eval on experience 2 (Task 0) from test stream ended.\n",
            "\tCPUUsage_Exp/eval_phase/test_stream/Task000/Exp002 = 96.7000\n",
            "\tDiskUsage_Exp/eval_phase/test_stream/Task000/Exp002 = 55688.6357\n",
            "\tLoss_Exp/eval_phase/test_stream/Task000/Exp002 = 0.5122\n",
            "\tTop1_Acc_Exp/eval_phase/test_stream/Task000/Exp002 = 0.9657\n",
            "-- Starting eval on experience 3 (Task 0) from test stream --\n",
            "100%|██████████| 21/21 [00:00<00:00, 33.54it/s]\n",
            "> Eval on experience 3 (Task 0) from test stream ended.\n",
            "\tCPUUsage_Exp/eval_phase/test_stream/Task000/Exp003 = 96.1061\n",
            "\tDiskUsage_Exp/eval_phase/test_stream/Task000/Exp003 = 55688.9912\n",
            "\tLoss_Exp/eval_phase/test_stream/Task000/Exp003 = 4.3089\n",
            "\tTop1_Acc_Exp/eval_phase/test_stream/Task000/Exp003 = 0.0000\n",
            "-- Starting eval on experience 4 (Task 0) from test stream --\n",
            "100%|██████████| 20/20 [00:00<00:00, 32.74it/s]\n",
            "> Eval on experience 4 (Task 0) from test stream ended.\n",
            "\tCPUUsage_Exp/eval_phase/test_stream/Task000/Exp004 = 96.5812\n",
            "\tDiskUsage_Exp/eval_phase/test_stream/Task000/Exp004 = 55689.3467\n",
            "\tLoss_Exp/eval_phase/test_stream/Task000/Exp004 = 4.1796\n",
            "\tTop1_Acc_Exp/eval_phase/test_stream/Task000/Exp004 = 0.0000\n",
            "-- >> End of eval phase << --\n",
            "\tConfusionMatrix_Stream/eval_phase/test_stream = \n",
            "tensor([[191,   0,   9,   0, 272,   0,   0, 508,   0,   0],\n",
            "        [  0, 743,   0,   0,  84,   0,   0, 308,   0,   0],\n",
            "        [  0,  18,  53,   0, 607,   0,   0, 354,   0,   0],\n",
            "        [  0,   0,   4,   0, 251,   0,   0, 755,   0,   0],\n",
            "        [  0,   0,   0,   0, 949,   0,   0,  33,   0,   0],\n",
            "        [  0,   3,   0,   0, 401,   0,   0, 488,   0,   0],\n",
            "        [  0,   3,   0,   0, 896,   0,   0,  59,   0,   0],\n",
            "        [  0,   1,   0,   0,  35,   0,   0, 992,   0,   0],\n",
            "        [  0,   2,   0,   0, 617,   0,   0, 355,   0,   0],\n",
            "        [  0,   0,   0,   0, 570,   0,   0, 439,   0,   0]])\n",
            "\tDiskUsage_Stream/eval_phase/test_stream/Task000 = 55689.3467\n",
            "\tLoss_Stream/eval_phase/test_stream/Task000 = 2.5615\n",
            "\tStreamForgetting/eval_phase/test_stream = 0.7135\n",
            "\tTop1_Acc_Stream/eval_phase/test_stream/Task000 = 0.2928\n",
            "Start of experience:  3\n",
            "Current Classes:  [9, 3]\n",
            "-- >> Start of training phase << --\n",
            "100%|██████████| 25/25 [00:03<00:00,  7.46it/s]\n",
            "Epoch 0 ended.\n",
            "\tDiskUsage_Epoch/train_phase/train_stream/Task000 = 55706.6240\n",
            "\tDiskUsage_MB/train_phase/train_stream/Task000 = 55706.6240\n",
            "\tLoss_Epoch/train_phase/train_stream/Task000 = 2.2589\n",
            "\tLoss_MB/train_phase/train_stream/Task000 = 0.8256\n",
            "\tRunningTime_Epoch/train_phase/train_stream/Task000 = 0.0056\n",
            "\tTime_Epoch/train_phase/train_stream/Task000 = 3.3501\n",
            "\tTop1_Acc_Epoch/train_phase/train_stream/Task000 = 0.3784\n",
            "\tTop1_Acc_MB/train_phase/train_stream/Task000 = 0.9250\n",
            "-- >> End of training phase << --\n",
            "Training completed\n",
            "Computing accuracy on the whole test set\n",
            "-- >> Start of eval phase << --\n",
            "-- Starting eval on experience 0 (Task 0) from test stream --\n",
            "100%|██████████| 19/19 [00:00<00:00, 31.63it/s]\n",
            "> Eval on experience 0 (Task 0) from test stream ended.\n",
            "\tCPUUsage_Exp/eval_phase/test_stream/Task000/Exp000 = 95.0583\n",
            "\tDiskUsage_Exp/eval_phase/test_stream/Task000/Exp000 = 55707.2090\n",
            "\tExperienceForgetting/eval_phase/test_stream/Task000/Exp000 = 0.8814\n",
            "\tLoss_Exp/eval_phase/test_stream/Task000/Exp000 = 2.4477\n",
            "\tTop1_Acc_Exp/eval_phase/test_stream/Task000/Exp000 = 0.0732\n",
            "-- Starting eval on experience 1 (Task 0) from test stream --\n",
            "100%|██████████| 22/22 [00:00<00:00, 32.35it/s]\n",
            "> Eval on experience 1 (Task 0) from test stream ended.\n",
            "\tCPUUsage_Exp/eval_phase/test_stream/Task000/Exp001 = 94.2125\n",
            "\tDiskUsage_Exp/eval_phase/test_stream/Task000/Exp001 = 55707.6318\n",
            "\tExperienceForgetting/eval_phase/test_stream/Task000/Exp001 = 0.7642\n",
            "\tLoss_Exp/eval_phase/test_stream/Task000/Exp001 = 1.9002\n",
            "\tTop1_Acc_Exp/eval_phase/test_stream/Task000/Exp001 = 0.1777\n",
            "-- Starting eval on experience 2 (Task 0) from test stream --\n",
            "100%|██████████| 21/21 [00:00<00:00, 34.21it/s]\n",
            "> Eval on experience 2 (Task 0) from test stream ended.\n",
            "\tCPUUsage_Exp/eval_phase/test_stream/Task000/Exp002 = 97.7507\n",
            "\tDiskUsage_Exp/eval_phase/test_stream/Task000/Exp002 = 55708.0547\n",
            "\tExperienceForgetting/eval_phase/test_stream/Task000/Exp002 = 0.9642\n",
            "\tLoss_Exp/eval_phase/test_stream/Task000/Exp002 = 2.1105\n",
            "\tTop1_Acc_Exp/eval_phase/test_stream/Task000/Exp002 = 0.0015\n",
            "-- Starting eval on experience 3 (Task 0) from test stream --\n",
            "100%|██████████| 21/21 [00:00<00:00, 33.20it/s]\n",
            "> Eval on experience 3 (Task 0) from test stream ended.\n",
            "\tCPUUsage_Exp/eval_phase/test_stream/Task000/Exp003 = 96.5061\n",
            "\tDiskUsage_Exp/eval_phase/test_stream/Task000/Exp003 = 55708.4775\n",
            "\tLoss_Exp/eval_phase/test_stream/Task000/Exp003 = 0.6170\n",
            "\tTop1_Acc_Exp/eval_phase/test_stream/Task000/Exp003 = 0.9624\n",
            "-- Starting eval on experience 4 (Task 0) from test stream --\n",
            "100%|██████████| 20/20 [00:00<00:00, 32.37it/s]\n",
            "> Eval on experience 4 (Task 0) from test stream ended.\n",
            "\tCPUUsage_Exp/eval_phase/test_stream/Task000/Exp004 = 97.3764\n",
            "\tDiskUsage_Exp/eval_phase/test_stream/Task000/Exp004 = 55708.8330\n",
            "\tLoss_Exp/eval_phase/test_stream/Task000/Exp004 = 3.6552\n",
            "\tTop1_Acc_Exp/eval_phase/test_stream/Task000/Exp004 = 0.0000\n",
            "-- >> End of eval phase << --\n",
            "\tConfusionMatrix_Stream/eval_phase/test_stream = \n",
            "tensor([[137,   0,   0, 712,   0,   0,   0,   0,   0, 131],\n",
            "        [  0, 382,   0, 741,   0,   0,   0,   0,   0,  12],\n",
            "        [  0,   0,   3, 804,   0,   0,   0,   0,   0, 225],\n",
            "        [  0,   0,   0, 977,   0,   0,   0,   0,   0,  33],\n",
            "        [  0,   0,   0,  18,   0,   0,   0,   0,   0, 964],\n",
            "        [  0,   1,   0, 598,   0,   0,   0,   0,   0, 293],\n",
            "        [  0,   2,   0, 326,   0,   0,   0,   0,   0, 630],\n",
            "        [  0,   0,   0,  86,   0,   0,   0,   3,   0, 939],\n",
            "        [  0,   0,   0, 686,   0,   0,   0,   0,   0, 288],\n",
            "        [  0,   0,   0,  43,   0,   0,   0,   0,   0, 966]])\n",
            "\tDiskUsage_Stream/eval_phase/test_stream/Task000 = 55708.8330\n",
            "\tLoss_Stream/eval_phase/test_stream/Task000 = 2.1249\n",
            "\tStreamForgetting/eval_phase/test_stream = 0.8699\n",
            "\tTop1_Acc_Stream/eval_phase/test_stream/Task000 = 0.2468\n",
            "Start of experience:  4\n",
            "Current Classes:  [8, 6]\n",
            "-- >> Start of training phase << --\n",
            "100%|██████████| 24/24 [00:03<00:00,  7.34it/s]\n",
            "Epoch 0 ended.\n",
            "\tDiskUsage_Epoch/train_phase/train_stream/Task000 = 55726.1104\n",
            "\tDiskUsage_MB/train_phase/train_stream/Task000 = 55726.1104\n",
            "\tLoss_Epoch/train_phase/train_stream/Task000 = 2.2650\n",
            "\tLoss_MB/train_phase/train_stream/Task000 = 1.0668\n",
            "\tRunningTime_Epoch/train_phase/train_stream/Task000 = 0.0057\n",
            "\tTime_Epoch/train_phase/train_stream/Task000 = 3.2655\n",
            "\tTop1_Acc_Epoch/train_phase/train_stream/Task000 = 0.3310\n",
            "\tTop1_Acc_MB/train_phase/train_stream/Task000 = 0.9331\n",
            "-- >> End of training phase << --\n",
            "Training completed\n",
            "Computing accuracy on the whole test set\n",
            "-- >> Start of eval phase << --\n",
            "-- Starting eval on experience 0 (Task 0) from test stream --\n",
            "100%|██████████| 19/19 [00:00<00:00, 31.89it/s]\n",
            "> Eval on experience 0 (Task 0) from test stream ended.\n",
            "\tCPUUsage_Exp/eval_phase/test_stream/Task000/Exp000 = 95.5694\n",
            "\tDiskUsage_Exp/eval_phase/test_stream/Task000/Exp000 = 55726.6953\n",
            "\tExperienceForgetting/eval_phase/test_stream/Task000/Exp000 = 0.7965\n",
            "\tLoss_Exp/eval_phase/test_stream/Task000/Exp000 = 2.3731\n",
            "\tTop1_Acc_Exp/eval_phase/test_stream/Task000/Exp000 = 0.1581\n",
            "-- Starting eval on experience 1 (Task 0) from test stream --\n",
            "100%|██████████| 22/22 [00:00<00:00, 31.80it/s]\n",
            "> Eval on experience 1 (Task 0) from test stream ended.\n",
            "\tCPUUsage_Exp/eval_phase/test_stream/Task000/Exp001 = 96.1815\n",
            "\tDiskUsage_Exp/eval_phase/test_stream/Task000/Exp001 = 55727.1182\n",
            "\tExperienceForgetting/eval_phase/test_stream/Task000/Exp001 = 0.7443\n",
            "\tLoss_Exp/eval_phase/test_stream/Task000/Exp001 = 2.0924\n",
            "\tTop1_Acc_Exp/eval_phase/test_stream/Task000/Exp001 = 0.1975\n",
            "-- Starting eval on experience 2 (Task 0) from test stream --\n",
            "100%|██████████| 21/21 [00:00<00:00, 32.63it/s]\n",
            "> Eval on experience 2 (Task 0) from test stream ended.\n",
            "\tCPUUsage_Exp/eval_phase/test_stream/Task000/Exp002 = 97.3560\n",
            "\tDiskUsage_Exp/eval_phase/test_stream/Task000/Exp002 = 55727.5410\n",
            "\tExperienceForgetting/eval_phase/test_stream/Task000/Exp002 = 0.9303\n",
            "\tLoss_Exp/eval_phase/test_stream/Task000/Exp002 = 2.2565\n",
            "\tTop1_Acc_Exp/eval_phase/test_stream/Task000/Exp002 = 0.0353\n",
            "-- Starting eval on experience 3 (Task 0) from test stream --\n",
            "100%|██████████| 21/21 [00:00<00:00, 32.77it/s]\n",
            "> Eval on experience 3 (Task 0) from test stream ended.\n",
            "\tCPUUsage_Exp/eval_phase/test_stream/Task000/Exp003 = 95.0221\n",
            "\tDiskUsage_Exp/eval_phase/test_stream/Task000/Exp003 = 55727.9639\n",
            "\tExperienceForgetting/eval_phase/test_stream/Task000/Exp003 = 0.7816\n",
            "\tLoss_Exp/eval_phase/test_stream/Task000/Exp003 = 1.6728\n",
            "\tTop1_Acc_Exp/eval_phase/test_stream/Task000/Exp003 = 0.1808\n",
            "-- Starting eval on experience 4 (Task 0) from test stream --\n",
            "100%|██████████| 20/20 [00:00<00:00, 32.32it/s]\n",
            "> Eval on experience 4 (Task 0) from test stream ended.\n",
            "\tCPUUsage_Exp/eval_phase/test_stream/Task000/Exp004 = 95.4181\n",
            "\tDiskUsage_Exp/eval_phase/test_stream/Task000/Exp004 = 55728.3867\n",
            "\tLoss_Exp/eval_phase/test_stream/Task000/Exp004 = 0.9225\n",
            "\tTop1_Acc_Exp/eval_phase/test_stream/Task000/Exp004 = 0.9664\n",
            "-- >> End of eval phase << --\n",
            "\tConfusionMatrix_Stream/eval_phase/test_stream = \n",
            "tensor([[296,   0,   2,  44,   0,   0, 440,   1, 195,   2],\n",
            "        [  0, 427,   0,   0,   0,   0,   6,   0, 702,   0],\n",
            "        [  0,   1,   1,  12,   0,   0, 499,   0, 518,   1],\n",
            "        [  0,   0,   0, 252,   0,   0,  72,   0, 686,   0],\n",
            "        [  0,   0,   0,   0,   0,   0, 479,   0, 483,  20],\n",
            "        [  0,   0,   0,  18,   0,   0, 133,   0, 733,   8],\n",
            "        [  0,   1,   0,   2,   0,   0, 934,   0,  20,   1],\n",
            "        [  0,   0,   0,   1,   0,   0,  59,  71, 420, 477],\n",
            "        [  0,   0,   0,   0,   0,   0,  41,   0, 933,   0],\n",
            "        [  0,   0,   0,   2,   0,   0, 123,   0, 771, 113]])\n",
            "\tDiskUsage_Stream/eval_phase/test_stream/Task000 = 55728.3867\n",
            "\tLoss_Stream/eval_phase/test_stream/Task000 = 1.8672\n",
            "\tStreamForgetting/eval_phase/test_stream = 0.8132\n",
            "\tTop1_Acc_Stream/eval_phase/test_stream/Task000 = 0.3027\n"
          ]
        }
      ]
    }
  ]
}